{
 "cells": [
  {
   "cell_type": "markdown",
   "metadata": {},
   "source": [
    "# Example to use HW-NAS-Bench under NAS-Bench-201's Space"
   ]
  },
  {
   "cell_type": "markdown",
   "metadata": {},
   "source": [
    "# Example to use HW-NAS-Bench under FBNet's Space"
   ]
  },
  {
   "cell_type": "code",
   "execution_count": 4,
   "metadata": {
    "scrolled": true,
    "tags": []
   },
   "outputs": [],
   "source": [
    "from hw_nas_bench_api import HWNASBenchAPI as HWAPI\n",
    "from hw_nas_bench_api.nas_201_models import get_cell_based_tiny_net\n",
    "from hw_nas_bench_api.fbnet_models import FBNet_Infer\n",
    "\n",
    "hw_api = HWAPI(\"HW-NAS-Bench-v1_0.pickle\", search_space=\"nasbench201\")\n",
    "\n",
    "NUM_CANDIDATES = 10\n",
    "networks = []\n",
    "\n",
    "for i in range(NUM_CANDIDATES):\n",
    "    config = hw_api.get_net_config(i, \"cifar10\")\n",
    "    networks.append(get_cell_based_tiny_net(config)) # create the network from configurration\n",
    "# print(network) # show the structure of this architecture"
   ]
  },
  {
   "cell_type": "code",
   "execution_count": 5,
   "metadata": {},
   "outputs": [
    {
     "name": "stdout",
     "output_type": "stream",
     "text": [
      "221 267 110 3\n",
      "266 312 155 3\n",
      "266 312 140 3\n",
      "176 222 95 3\n",
      "206 252 155 3\n",
      "281 327 170 3\n",
      "296 342 170 3\n",
      "236 282 140 3\n",
      "236 282 155 3\n",
      "221 267 140 3\n"
     ]
    }
   ],
   "source": [
    "from utils.network_metrics import total_nodes, total_edges, maximal_set_on_path, longest_path\n",
    "\n",
    "for network in networks:\n",
    "    print(total_nodes(network), total_edges(network), longest_path(network), maximal_set_on_path(network))"
   ]
  },
  {
   "cell_type": "code",
   "execution_count": null,
   "metadata": {},
   "outputs": [],
   "source": []
  }
 ],
 "metadata": {
  "kernelspec": {
   "display_name": "pytorch",
   "language": "python",
   "name": "pytorch"
  },
  "language_info": {
   "codemirror_mode": {
    "name": "ipython",
    "version": 3
   },
   "file_extension": ".py",
   "mimetype": "text/x-python",
   "name": "python",
   "nbconvert_exporter": "python",
   "pygments_lexer": "ipython3",
   "version": "3.9.2"
  }
 },
 "nbformat": 4,
 "nbformat_minor": 4
}
